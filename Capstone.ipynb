{
  "nbformat": 4,
  "nbformat_minor": 0,
  "metadata": {
    "colab": {
      "provenance": [],
      "authorship_tag": "ABX9TyNoAVuhaYqTqyqPpWMecNdD",
      "include_colab_link": true
    },
    "kernelspec": {
      "name": "python3",
      "display_name": "Python 3"
    },
    "language_info": {
      "name": "python"
    }
  },
  "cells": [
    {
      "cell_type": "markdown",
      "metadata": {
        "id": "view-in-github",
        "colab_type": "text"
      },
      "source": [
        "<a href=\"https://colab.research.google.com/github/yxmauw/GA_Capstone/blob/main/Capstone.ipynb\" target=\"_parent\"><img src=\"https://colab.research.google.com/assets/colab-badge.svg\" alt=\"Open In Colab\"/></a>"
      ]
    },
    {
      "cell_type": "code",
      "source": [
        "import numpy as np\n",
        "import pandas as pd\n",
        "# libraries to read github files\n",
        "import zipfile\n",
        "import os"
      ],
      "metadata": {
        "id": "ux0sKzxnQG-i"
      },
      "execution_count": null,
      "outputs": []
    },
    {
      "cell_type": "code",
      "source": [
        "# shell command, downloads to current directory\n",
        "# ignore SSL certificate error if website has expired SSL certificate\n",
        "!wget --no-check-certificate \\ \n",
        "    \"https://github.com/yxmauw/GA_Capstone/archive/refs/heads/main.zip\" \\\n",
        "    -O \"/glaucoma.zip\"\n",
        "\n",
        "\n",
        "zip_ref = zipfile.ZipFile('/glaucoma.zip', 'r') #Opens the zip file in read mode\n",
        "zip_ref.extractall('/tmp') #Extracts the files into the /tmp folder\n",
        "zip_ref.close()"
      ],
      "metadata": {
        "id": "NHOQ_d9gX5Lh"
      },
      "execution_count": null,
      "outputs": []
    }
  ]
}